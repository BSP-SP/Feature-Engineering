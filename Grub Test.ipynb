{
 "cells": [
  {
   "cell_type": "markdown",
   "metadata": {},
   "source": [
    "# Grub Test"
   ]
  },
  {
   "cell_type": "markdown",
   "metadata": {},
   "source": [
    "Null: There are no outliers in the dataset\n",
    "\n",
    "Alternative: There is exactly one outlier in the dataset"
   ]
  },
  {
   "cell_type": "code",
   "execution_count": 24,
   "metadata": {},
   "outputs": [],
   "source": [
    "from outliers import smirnov_grubbs as grubbs\n",
    "import numpy as np\n",
    "import scipy.stats as stats\n",
    "\n",
    "\n",
    "df= np.array([1,25,27,30,32,35,40,41,1000])\n"
   ]
  },
  {
   "cell_type": "markdown",
   "metadata": {},
   "source": [
    "Grubbs’ test statistic:"
   ]
  },
  {
   "attachments": {
    "image.png": {
     "image/png": "[encoded data removed]"
    }
   },
   "cell_type": "markdown",
   "metadata": {},
   "source": [
    "![image.png](attachment:image.png)"
   ]
  },
  {
   "cell_type": "code",
   "execution_count": 35,
   "metadata": {},
   "outputs": [],
   "source": [
    "def calculate_G_value(df):\n",
    "  \n",
    "    \"\"\"Args:\n",
    "        \n",
    "        y (float): Numpy array.\n",
    "    Returns:\n",
    "        float: The G value for the test.\n",
    "    \"\"\"\n",
    "    avg_df = np.mean(df)\n",
    "    abs_val_diff = abs(y - avg_df)\n",
    "    max_deviations = max(abs_val_diff)\n",
    "    s = np.std(y)\n",
    "    Gcalculated = max_deviations/ s\n",
    "    return Gcalculated"
   ]
  },
  {
   "cell_type": "markdown",
   "metadata": {},
   "source": [
    "Critical value of Test statistic"
   ]
  },
  {
   "attachments": {
    "image.png": {
     "image/png": "[encoded data removed]"
    }
   },
   "cell_type": "markdown",
   "metadata": {},
   "source": [
    "![image.png](attachment:image.png)"
   ]
  },
  {
   "cell_type": "code",
   "execution_count": 41,
   "metadata": {},
   "outputs": [],
   "source": [
    "\n",
    "def critical_value(size, alpha):\n",
    "    \"\"\"   \n",
    "    Args:\n",
    "\n",
    "    alpha (float): The significance level.\n",
    "    Returns:\n",
    "    float: The critical value for this test.\"\"\"\n",
    "\n",
    "    t_dist = stats.t.ppf(1 - alpha / (2 * size), size - 2)\n",
    "    num = (size - 1) * np.sqrt(np.square(t_dist))\n",
    "    denom = np.sqrt(size) * np.sqrt(size - 2 + np.square(t_dist))\n",
    "    critical_value = num / denom\n",
    "    print(\"Grubbs Critical Value: {}\".format(critical_value))\n"
   ]
  },
  {
   "cell_type": "code",
   "execution_count": 42,
   "metadata": {},
   "outputs": [
    {
     "name": "stdout",
     "output_type": "stream",
     "text": [
      "Grubbs Critical Value: 2.215004223325564\n"
     ]
    }
   ],
   "source": [
    "critical_value(len(df), alpha=.05)"
   ]
  },
  {
   "cell_type": "code",
   "execution_count": 43,
   "metadata": {},
   "outputs": [
    {
     "ename": "NameError",
     "evalue": "name 'y' is not defined",
     "output_type": "error",
     "traceback": [
      "\u001b[1;31m---------------------------------------------------------------------------\u001b[0m",
      "\u001b[1;31mNameError\u001b[0m                                 Traceback (most recent call last)",
      "\u001b[1;32m<ipython-input-43-4edc473fd529>\u001b[0m in \u001b[0;36m<module>\u001b[1;34m\u001b[0m\n\u001b[1;32m----> 1\u001b[1;33m \u001b[0mcalculate_G_value\u001b[0m\u001b[1;33m(\u001b[0m\u001b[0mdf\u001b[0m\u001b[1;33m)\u001b[0m\u001b[1;33m\u001b[0m\u001b[1;33m\u001b[0m\u001b[0m\n\u001b[0m",
      "\u001b[1;32m<ipython-input-35-826ef3879ab1>\u001b[0m in \u001b[0;36mcalculate_G_value\u001b[1;34m(df)\u001b[0m\n\u001b[0;32m      8\u001b[0m     \"\"\"\n\u001b[0;32m      9\u001b[0m     \u001b[0mavg_df\u001b[0m \u001b[1;33m=\u001b[0m \u001b[0mnp\u001b[0m\u001b[1;33m.\u001b[0m\u001b[0mmean\u001b[0m\u001b[1;33m(\u001b[0m\u001b[0mdf\u001b[0m\u001b[1;33m)\u001b[0m\u001b[1;33m\u001b[0m\u001b[1;33m\u001b[0m\u001b[0m\n\u001b[1;32m---> 10\u001b[1;33m     \u001b[0mabs_val_diff\u001b[0m \u001b[1;33m=\u001b[0m \u001b[0mabs\u001b[0m\u001b[1;33m(\u001b[0m\u001b[0my\u001b[0m \u001b[1;33m-\u001b[0m \u001b[0mavg_df\u001b[0m\u001b[1;33m)\u001b[0m\u001b[1;33m\u001b[0m\u001b[1;33m\u001b[0m\u001b[0m\n\u001b[0m\u001b[0;32m     11\u001b[0m     \u001b[0mmax_deviations\u001b[0m \u001b[1;33m=\u001b[0m \u001b[0mmax\u001b[0m\u001b[1;33m(\u001b[0m\u001b[0mabs_val_diff\u001b[0m\u001b[1;33m)\u001b[0m\u001b[1;33m\u001b[0m\u001b[1;33m\u001b[0m\u001b[0m\n\u001b[0;32m     12\u001b[0m     \u001b[0ms\u001b[0m \u001b[1;33m=\u001b[0m \u001b[0mnp\u001b[0m\u001b[1;33m.\u001b[0m\u001b[0mstd\u001b[0m\u001b[1;33m(\u001b[0m\u001b[0my\u001b[0m\u001b[1;33m)\u001b[0m\u001b[1;33m\u001b[0m\u001b[1;33m\u001b[0m\u001b[0m\n",
      "\u001b[1;31mNameError\u001b[0m: name 'y' is not defined"
     ]
    }
   ],
   "source": [
    "calculate_G_value(df) "
   ]
  },
  {
   "cell_type": "markdown",
   "metadata": {},
   "source": [
    "G >G_critical ,null hypothesis rejected and accept Alternative hypothesis"
   ]
  },
  {
   "cell_type": "markdown",
   "metadata": {},
   "source": [
    "# outlier_utils"
   ]
  },
  {
   "cell_type": "code",
   "execution_count": 1,
   "metadata": {},
   "outputs": [
    {
     "name": "stdout",
     "output_type": "stream",
     "text": [
      "Collecting outlier_utils\n",
      "  Downloading outlier_utils-0.0.3-py3-none-any.whl (6.0 kB)\n",
      "Installing collected packages: outlier-utils\n",
      "Successfully installed outlier-utils-0.0.3\n",
      "Note: you may need to restart the kernel to use updated packages.\n"
     ]
    }
   ],
   "source": [
    "pip install outlier_utils"
   ]
  },
  {
   "cell_type": "markdown",
   "metadata": {},
   "source": [
    "# #Two sided Test"
   ]
  },
  {
   "cell_type": "markdown",
   "metadata": {},
   "source": [
    "where ӯ and s are samples mean, standard deviation respectively."
   ]
  },
  {
   "cell_type": "code",
   "execution_count": 3,
   "metadata": {},
   "outputs": [
    {
     "data": {
      "text/plain": [
       "array([25, 27, 30, 32, 35, 40, 41])"
      ]
     },
     "execution_count": 3,
     "metadata": {},
     "output_type": "execute_result"
    }
   ],
   "source": [
    "grubbs.test(df, alpha=0.05)"
   ]
  },
  {
   "cell_type": "markdown",
   "metadata": {},
   "source": [
    "# #One-sided (min) test returning outlier indices"
   ]
  },
  {
   "attachments": {
    "image.png": {
     "image/png": "[encoded data removed]"
    }
   },
   "cell_type": "markdown",
   "metadata": {},
   "source": [
    "![image.png](attachment:image.png)"
   ]
  },
  {
   "cell_type": "code",
   "execution_count": 4,
   "metadata": {},
   "outputs": [
    {
     "data": {
      "text/plain": [
       "[0]"
      ]
     },
     "execution_count": 4,
     "metadata": {},
     "output_type": "execute_result"
    }
   ],
   "source": [
    "grubbs.min_test_indices([1,25,27,30,32,35,40,41],alpha=0.05)"
   ]
  },
  {
   "cell_type": "markdown",
   "metadata": {},
   "source": [
    "## One-sided (Max) test returning outlier indices"
   ]
  },
  {
   "attachments": {
    "image.png": {
     "image/png": "[encoded data removed]"
    }
   },
   "cell_type": "markdown",
   "metadata": {},
   "source": [
    "![image.png](attachment:image.png)"
   ]
  },
  {
   "cell_type": "code",
   "execution_count": 5,
   "metadata": {},
   "outputs": [
    {
     "data": {
      "text/plain": [
       "[7]"
      ]
     },
     "execution_count": 5,
     "metadata": {},
     "output_type": "execute_result"
    }
   ],
   "source": [
    "grubbs.max_test_indices([25,27,30,32,35,40,41,1000],alpha=0.05)"
   ]
  },
  {
   "cell_type": "markdown",
   "metadata": {},
   "source": [
    "# scikit-posthocs"
   ]
  },
  {
   "cell_type": "code",
   "execution_count": 6,
   "metadata": {},
   "outputs": [
    {
     "name": "stdout",
     "output_type": "stream",
     "text": [
      "Collecting scikit-posthocsNote: you may need to restart the kernel to use updated packages.\n",
      "  Downloading scikit_posthocs-0.6.6-py3-none-any.whl (27 kB)\n",
      "Requirement already satisfied: pandas>=0.20.0 in c:\\users\\bineesh.prasad\\anaconda3\\envs\\iva\\lib\\site-packages (from scikit-posthocs) (1.1.1)\n",
      "Requirement already satisfied: matplotlib in c:\\users\\bineesh.prasad\\anaconda3\\envs\\iva\\lib\\site-packages (from scikit-posthocs) (3.3.1)\n",
      "Requirement already satisfied: seaborn in c:\\users\\bineesh.prasad\\anaconda3\\envs\\iva\\lib\\site-packages (from scikit-posthocs) (0.11.0)\n",
      "Requirement already satisfied: statsmodels in c:\\users\\bineesh.prasad\\anaconda3\\envs\\iva\\lib\\site-packages (from scikit-posthocs) (0.12.1)\n",
      "Requirement already satisfied: numpy in c:\\users\\bineesh.prasad\\anaconda3\\envs\\iva\\lib\\site-packages (from scikit-posthocs) (1.18.5)\n",
      "Requirement already satisfied: scipy in c:\\users\\bineesh.prasad\\anaconda3\\envs\\iva\\lib\\site-packages (from scikit-posthocs) (1.4.1)\n",
      "Requirement already satisfied: pytz>=2017.2 in c:\\users\\bineesh.prasad\\anaconda3\\envs\\iva\\lib\\site-packages (from pandas>=0.20.0->scikit-posthocs) (2020.1)\n",
      "Requirement already satisfied: python-dateutil>=2.7.3 in c:\\users\\bineesh.prasad\\anaconda3\\envs\\iva\\lib\\site-packages (from pandas>=0.20.0->scikit-posthocs) (2.8.1)\n",
      "Requirement already satisfied: certifi>=2020.06.20 in c:\\users\\bineesh.prasad\\anaconda3\\envs\\iva\\lib\\site-packages (from matplotlib->scikit-posthocs) (2020.12.5)\n",
      "Requirement already satisfied: pillow>=6.2.0 in c:\\users\\bineesh.prasad\\anaconda3\\envs\\iva\\lib\\site-packages (from matplotlib->scikit-posthocs) (7.2.0)\n",
      "Requirement already satisfied: pyparsing!=2.0.4,!=2.1.2,!=2.1.6,>=2.0.3 in c:\\users\\bineesh.prasad\\anaconda3\\envs\\iva\\lib\\site-packages (from matplotlib->scikit-posthocs) (2.4.7)\n",
      "Requirement already satisfied: kiwisolver>=1.0.1 in c:\\users\\bineesh.prasad\\anaconda3\\envs\\iva\\lib\\site-packages (from matplotlib->scikit-posthocs) (1.2.0)\n",
      "Requirement already satisfied: cycler>=0.10 in c:\\users\\bineesh.prasad\\anaconda3\\envs\\iva\\lib\\site-packages (from matplotlib->scikit-posthocs) (0.10.0)\n",
      "Requirement already satisfied: patsy>=0.5 in c:\\users\\bineesh.prasad\\anaconda3\\envs\\iva\\lib\\site-packages (from statsmodels->scikit-posthocs) (0.5.1)\n",
      "Requirement already satisfied: six>=1.5 in c:\\users\\bineesh.prasad\\anaconda3\\envs\\iva\\lib\\site-packages (from python-dateutil>=2.7.3->pandas>=0.20.0->scikit-posthocs) (1.15.0)\n",
      "Installing collected packages: scikit-posthocs\n",
      "Successfully installed scikit-posthocs-0.6.6\n",
      "\n"
     ]
    }
   ],
   "source": [
    "pip install scikit-posthocs"
   ]
  },
  {
   "cell_type": "code",
   "execution_count": 11,
   "metadata": {},
   "outputs": [
    {
     "data": {
      "text/plain": [
       "array([ 1, 25, 27, 30, 32, 35, 40, 41])"
      ]
     },
     "execution_count": 11,
     "metadata": {},
     "output_type": "execute_result"
    }
   ],
   "source": [
    "import scikit_posthocs\n",
    "scikit_posthocs.outliers_grubbs(df)"
   ]
  },
  {
   "cell_type": "markdown",
   "metadata": {},
   "source": [
    "# MOORE Test"
   ]
  },
  {
   "cell_type": "markdown",
   "metadata": {},
   "source": [
    "Moore Test  is a generalization of the Grubbs test to the\n",
    "case of more than one outlier; however, it requires the number of outliers to be\n",
    "specified exactly"
   ]
  },
  {
   "cell_type": "code",
   "execution_count": 14,
   "metadata": {},
   "outputs": [
    {
     "data": {
      "text/plain": [
       "array([25, 27, 30, 32, 35, 40, 41])"
      ]
     },
     "execution_count": 14,
     "metadata": {},
     "output_type": "execute_result"
    }
   ],
   "source": [
    "scikit_posthocs.outliers_tietjen(df, 2)"
   ]
  },
  {
   "cell_type": "code",
   "execution_count": null,
   "metadata": {},
   "outputs": [],
   "source": []
  }
 ],
 "metadata": {
  "kernelspec": {
   "display_name": "Python 3",
   "language": "python",
   "name": "python3"
  },
  "language_info": {
   "codemirror_mode": {
    "name": "ipython",
    "version": 3
   },
   "file_extension": ".py",
   "mimetype": "text/x-python",
   "name": "python",
   "nbconvert_exporter": "python",
   "pygments_lexer": "ipython3",
   "version": "3.7.9"
  }
 },
 "nbformat": 4,
 "nbformat_minor": 4
}
